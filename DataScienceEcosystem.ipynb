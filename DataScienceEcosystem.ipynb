{
 "cells": [
  {
   "cell_type": "markdown",
   "id": "2ed29bc1-f702-4e55-9920-d26aeda0bdcd",
   "metadata": {},
   "source": [
    "# Data Science Tools and Ecosystem"
   ]
  },
  {
   "cell_type": "markdown",
   "id": "5c22e3e2-e436-42ac-9427-c9a37f799e0a",
   "metadata": {},
   "source": [
    "In this notebook, Data Science Tools and Ecosystems are summarized"
   ]
  },
  {
   "cell_type": "markdown",
   "id": "f41bdb48-3bc7-4c9c-b706-253e92d781a1",
   "metadata": {},
   "source": [
    "**Objectives:**\n",
    "- List popular languages for Data Science\n",
    "- List commonly used libraries in Data Science\n",
    "- Create tables using markdown\n",
    "- Perform arithmetic operations using Python\n",
    "- Converts units using code (e.g., minutes to hours)\n"
   ]
  },
  {
   "cell_type": "markdown",
   "id": "aaa79112-7108-484b-b7b9-5f5d5060537e",
   "metadata": {},
   "source": [
    "**Some of the popular languages that Data Scientists use are:**\n",
    "    \n",
    "- Pythyon\n",
    "- R\n",
    "- SQL\n",
    "- Julia\n",
    "- Scala"
   ]
  },
  {
   "cell_type": "markdown",
   "id": "7087d1e9-85c0-4929-a96b-b0c63f5b05d6",
   "metadata": {},
   "source": [
    "**Some of the commonly used libraries used by Data Scientists include:**\n",
    "\n",
    "- Pandas\n",
    "- Numpy\n",
    "- Matplotlib\n",
    "- Scikit-learn\n",
    "- TensorFlow\n",
    "- Keras\n"
   ]
  },
  {
   "cell_type": "markdown",
   "id": "0611ba55-ebb7-40f7-9803-bd80c5b59251",
   "metadata": {},
   "source": [
    "  | Data Science Tools |\n",
    "  |------------------- |\n",
    "  | RStudio            |\n",
    "  | Apache Spark       |\n",
    "  | Tensor Flow        |\n",
    "\n"
   ]
  },
  {
   "cell_type": "markdown",
   "id": "ab2cae89-f873-4c7f-8204-a3eef6e18525",
   "metadata": {},
   "source": [
    "### Below are a few examples of evaluating arithmetic expressions in Python"
   ]
  },
  {
   "cell_type": "code",
   "execution_count": 4,
   "id": "b6369876-308c-46e9-a480-daea7f062191",
   "metadata": {},
   "outputs": [
    {
     "data": {
      "text/plain": [
       "17"
      ]
     },
     "execution_count": 4,
     "metadata": {},
     "output_type": "execute_result"
    }
   ],
   "source": [
    "# This is a simple arithmetic expression to multiply then add integers \n",
    "(3 * 4) + 5\n"
   ]
  },
  {
   "cell_type": "code",
   "execution_count": 5,
   "id": "0433193a-c7ea-47ea-bd54-90616c02108e",
   "metadata": {},
   "outputs": [
    {
     "data": {
      "text/plain": [
       "3.3333333333333335"
      ]
     },
     "execution_count": 5,
     "metadata": {},
     "output_type": "execute_result"
    }
   ],
   "source": [
    "#This will convert 200 minutes to hours by dividing by 60\n",
    "minutes = 200\n",
    "hours = minutes / 60\n",
    "hours"
   ]
  },
  {
   "cell_type": "markdown",
   "id": "fa68512c-e63d-4c8e-b1b3-93d81dca1953",
   "metadata": {},
   "source": [
    "**Author:** Zarin Tasnim Hrida"
   ]
  },
  {
   "cell_type": "code",
   "execution_count": null,
   "id": "8a686039-ccf3-4d3e-8134-4eb1af54800c",
   "metadata": {},
   "outputs": [],
   "source": []
  }
 ],
 "metadata": {
  "kernelspec": {
   "display_name": "Python 3 (ipykernel)",
   "language": "python",
   "name": "python3"
  },
  "language_info": {
   "codemirror_mode": {
    "name": "ipython",
    "version": 3
   },
   "file_extension": ".py",
   "mimetype": "text/x-python",
   "name": "python",
   "nbconvert_exporter": "python",
   "pygments_lexer": "ipython3",
   "version": "3.12.8"
  }
 },
 "nbformat": 4,
 "nbformat_minor": 5
}
